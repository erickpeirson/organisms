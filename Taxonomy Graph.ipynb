{
 "cells": [
  {
   "cell_type": "code",
   "execution_count": 1,
   "metadata": {
    "collapsed": false
   },
   "outputs": [
    {
     "name": "stdout",
     "output_type": "stream",
     "text": [
      "Populating the interactive namespace from numpy and matplotlib\n"
     ]
    }
   ],
   "source": [
    "%pylab inline"
   ]
  },
  {
   "cell_type": "code",
   "execution_count": 2,
   "metadata": {
    "collapsed": true
   },
   "outputs": [],
   "source": [
    "import networkx as nx\n",
    "import csv\n",
    "import numpy as np\n",
    "import pandas as pd\n",
    "from itertools import chain"
   ]
  },
  {
   "cell_type": "code",
   "execution_count": 3,
   "metadata": {
    "collapsed": true
   },
   "outputs": [],
   "source": [
    "graph = nx.read_graphml('/Users/erickpeirson/taxonomy.graphml')"
   ]
  },
  {
   "cell_type": "code",
   "execution_count": 4,
   "metadata": {
    "collapsed": false
   },
   "outputs": [],
   "source": [
    "graph_rebase = nx.DiGraph()"
   ]
  },
  {
   "cell_type": "code",
   "execution_count": 5,
   "metadata": {
    "collapsed": false
   },
   "outputs": [],
   "source": [
    "for node in graph.nodes():\n",
    "    i, name, rank = eval(node)\n",
    "    graph_rebase.add_node(int(i), name=name, rank=rank)"
   ]
  },
  {
   "cell_type": "code",
   "execution_count": 6,
   "metadata": {
    "collapsed": false
   },
   "outputs": [],
   "source": [
    "for source, target in graph.edges():\n",
    "    i_source, name_source, rank_source = eval(source)\n",
    "    i_target, name_target, rank_target = eval(target)\n",
    "    graph_rebase.add_edge(int(i_source), int(i_target))\n",
    "    "
   ]
  },
  {
   "cell_type": "code",
   "execution_count": 250,
   "metadata": {
    "collapsed": true
   },
   "outputs": [],
   "source": [
    "nx.write_graphml(graph_rebase, 'graph_rebase.graphml')"
   ]
  },
  {
   "cell_type": "code",
   "execution_count": 35,
   "metadata": {
    "collapsed": false
   },
   "outputs": [],
   "source": [
    "ROOT = -1\n",
    "\n",
    "lineage = lambda n: nx.shortest_path(graph_rebase, ROOT, n)[::-1]\n",
    "\n",
    "def lowest_shared_node(u, v):\n",
    "    u_lineage = lineage(u)\n",
    "    v_lineage = lineage(v)\n",
    "#     if 9605 in set(u_lineage) | set(v_lineage):\n",
    "#         raise ValueError('No humans alowed!')\n",
    "    for i in u_lineage:\n",
    "        for j in v_lineage:\n",
    "            if i == j:\n",
    "                return graph_rebase.node[i]['rank']"
   ]
  },
  {
   "cell_type": "code",
   "execution_count": 8,
   "metadata": {
    "collapsed": false
   },
   "outputs": [],
   "source": [
    "ranks = set([d['rank'] for n, d in graph_rebase.nodes(data=True)])"
   ]
  },
  {
   "cell_type": "code",
   "execution_count": 10,
   "metadata": {
    "collapsed": false
   },
   "outputs": [],
   "source": [
    "ontograph = nx.DiGraph()\n",
    "with open('ontotaxonomy.sif', 'r') as f:\n",
    "    reader = csv.reader(f, delimiter='\\t')\n",
    "    for edge in reader: \n",
    "        ontograph.add_edge(edge[0], edge[2])"
   ]
  },
  {
   "cell_type": "code",
   "execution_count": 11,
   "metadata": {
    "collapsed": false
   },
   "outputs": [
    {
     "data": {
      "text/plain": [
       "<networkx.classes.digraph.DiGraph at 0x10938a7d0>"
      ]
     },
     "execution_count": 11,
     "metadata": {},
     "output_type": "execute_result"
    }
   ],
   "source": [
    "ontograph"
   ]
  },
  {
   "cell_type": "code",
   "execution_count": 12,
   "metadata": {
    "collapsed": true
   },
   "outputs": [],
   "source": [
    "ranks_in_order = [\n",
    "    'Root',\n",
    "    'superkingdom',\n",
    "    'kingdom',\n",
    "    'subkingdom',\n",
    "    'phylum',\n",
    "    'subphylum',\n",
    "    'superclass',\n",
    "    'class',\n",
    "    'subclass',\n",
    "    'infraclass',\n",
    "    'superorder',\n",
    "    'order',\n",
    "    'suborder',\n",
    "    'infraorder',\n",
    "    'parvorder',\n",
    "    'superfamily',\n",
    "    'family',\n",
    "    'subfamily',\n",
    "    'tribe',\n",
    "    'subtribe',\n",
    "    'genus',\n",
    "    'subgenus',\n",
    "    'species group',\n",
    "    'species subgroup',\n",
    "    'species',\n",
    "    'subspecies'][::-1]"
   ]
  },
  {
   "cell_type": "code",
   "execution_count": 13,
   "metadata": {
    "collapsed": false
   },
   "outputs": [],
   "source": [
    "rank_idx = np.arange(0, len(ranks_in_order))"
   ]
  },
  {
   "cell_type": "code",
   "execution_count": 68,
   "metadata": {
    "collapsed": false
   },
   "outputs": [
    {
     "data": {
      "image/png": "[encoded data removed]",
      "text/plain": [
       "<matplotlib.figure.Figure at 0x10c82e5d0>"
      ]
     },
     "metadata": {},
     "output_type": "display_data"
    }
   ],
   "source": [
    "plt.figure(figsize=(9, 6))\n",
    "plt.scatter(rank_idx, distance_vect(rank_idx))\n",
    "locs, _ = plt.xticks()\n",
    "# plt.yticks(np.arange(0, 1.2, 0.2), np.arange(0, 1.2, 0.2))\n",
    "plt.xticks(rank_idx, ranks_in_order, rotation=45, ha='right')\n",
    "plt.ylabel('', fontsize=18)\n",
    "plt.xlim(-1, max(rank_idx) + 1)\n",
    "plt.show()"
   ]
  },
  {
   "cell_type": "code",
   "execution_count": 16,
   "metadata": {
    "collapsed": true
   },
   "outputs": [],
   "source": [
    "\n"
   ]
  },
  {
   "cell_type": "code",
   "execution_count": 65,
   "metadata": {
    "collapsed": false
   },
   "outputs": [],
   "source": [
    "distance = lambda l: np.arange(1. + l).sum()*2.\n",
    "distance_vect = np.vectorize(distance)\n",
    "\n",
    "index_of = lambda rank: ranks_in_order.index(rank) if rank in ranks_in_order else 0\n",
    "\n",
    "def get_rank(u):\n",
    "    return graph_rebase.node[u]['rank']\n",
    "\n",
    "def dist_value(i, j):\n",
    "    rank = lowest_shared_node(i, j)\n",
    "\n",
    "    value = distance(index_of(rank))\n",
    "    if get_rank(i) == rank or get_rank(j) == rank:\n",
    "        value /= 2.\n",
    "    return value\n"
   ]
  },
  {
   "cell_type": "code",
   "execution_count": 17,
   "metadata": {
    "collapsed": false
   },
   "outputs": [],
   "source": [
    "df = pd.DataFrame(graph_rebase.nodes(), columns=['TaxonID'])"
   ]
  },
  {
   "cell_type": "code",
   "execution_count": 62,
   "metadata": {
    "collapsed": false
   },
   "outputs": [
    {
     "data": {
      "text/plain": [
       "(array([ 1.,  0.,  0.,  0.,  1.,  1.,  0.,  0.,  1.,  1.]),\n",
       " array([ 483.4,  494. ,  504.6,  515.2,  525.8,  536.4,  547. ,  557.6,\n",
       "         568.2,  578.8,  589.4]),\n",
       " <a list of 10 Patch objects>)"
      ]
     },
     "execution_count": 62,
     "metadata": {},
     "output_type": "execute_result"
    },
    {
     "data": {
      "image/png": "[encoded data removed]",
      "text/plain": [
       "<matplotlib.figure.Figure at 0x10ad34c50>"
      ]
     },
     "metadata": {},
     "output_type": "display_data"
    }
   ],
   "source": [
    "plt.hist([np.mean([dist_value(*df.TaxonID.sample(2).values) for _ in xrange(10**1)]) for __ in xrange(5)])"
   ]
  },
  {
   "cell_type": "code",
   "execution_count": 63,
   "metadata": {
    "collapsed": false
   },
   "outputs": [
    {
     "data": {
      "text/plain": [
       "(array([ 1.,  0.,  1.,  0.,  0.,  1.,  0.,  1.,  0.,  1.]),\n",
       " array([ 574.86,  576.26,  577.66,  579.06,  580.46,  581.86,  583.26,\n",
       "         584.66,  586.06,  587.46,  588.86]),\n",
       " <a list of 10 Patch objects>)"
      ]
     },
     "execution_count": 63,
     "metadata": {},
     "output_type": "execute_result"
    },
    {
     "data": {
      "image/png": "[encoded data removed]",
      "text/plain": [
       "<matplotlib.figure.Figure at 0x10a0063d0>"
      ]
     },
     "metadata": {},
     "output_type": "display_data"
    }
   ],
   "source": [
    "plt.hist([np.mean([dist_value(*df.TaxonID.sample(2).values) for _ in xrange(10**2)]) for __ in xrange(5)])"
   ]
  },
  {
   "cell_type": "code",
   "execution_count": 64,
   "metadata": {
    "collapsed": false
   },
   "outputs": [
    {
     "data": {
      "text/plain": [
       "(array([ 1.,  0.,  0.,  0.,  2.,  0.,  0.,  1.,  0.,  1.]),\n",
       " array([ 574.447 ,  575.1225,  575.798 ,  576.4735,  577.149 ,  577.8245,\n",
       "         578.5   ,  579.1755,  579.851 ,  580.5265,  581.202 ]),\n",
       " <a list of 10 Patch objects>)"
      ]
     },
     "execution_count": 64,
     "metadata": {},
     "output_type": "execute_result"
    },
    {
     "data": {
      "image/png": "[encoded data removed]",
      "text/plain": [
       "<matplotlib.figure.Figure at 0x10a4a9110>"
      ]
     },
     "metadata": {},
     "output_type": "display_data"
    }
   ],
   "source": [
    "plt.hist([np.mean([dist_value(*df.TaxonID.sample(2).values) for _ in xrange(10**3)]) for __ in xrange(5)])"
   ]
  },
  {
   "cell_type": "code",
   "execution_count": 18,
   "metadata": {
    "collapsed": false
   },
   "outputs": [],
   "source": [
    "def _generate_samples(N):\n",
    "    import numpy as np\n",
    "    import networkx as nx\n",
    "    import pandas as pd\n",
    "    \n",
    "    graph_rebase = nx.read_graphml('graph_rebase.graphml')\n",
    "    \n",
    "    ROOT = -1\n",
    "\n",
    "    lineage = lambda n: nx.shortest_path(graph_rebase, str(ROOT), str(n))[::-1]\n",
    "\n",
    "    def lowest_shared_node(u, v):\n",
    "        u_lineage = lineage(u)\n",
    "        v_lineage = lineage(v)\n",
    "    #     if 9605 in set(u_lineage) | set(v_lineage):\n",
    "    #         raise ValueError('No humans alowed!')\n",
    "        for i in u_lineage:\n",
    "            for j in v_lineage:\n",
    "                if i == j:\n",
    "                    return graph_rebase.node[i]['rank']\n",
    "    ranks_in_order = [\n",
    "    'Root',\n",
    "    'superkingdom',\n",
    "    'kingdom',\n",
    "    'subkingdom',\n",
    "    'phylum',\n",
    "    'subphylum',\n",
    "    'superclass',\n",
    "    'class',\n",
    "    'subclass',\n",
    "    'infraclass',\n",
    "    'superorder',\n",
    "    'order',\n",
    "    'suborder',\n",
    "    'infraorder',\n",
    "    'parvorder',\n",
    "    'superfamily',\n",
    "    'family',\n",
    "    'subfamily',\n",
    "    'tribe',\n",
    "    'subtribe',\n",
    "    'genus',\n",
    "    'subgenus',\n",
    "    'species group',\n",
    "    'species subgroup',\n",
    "    'species',\n",
    "    'subspecies'][::-1]\n",
    "    \n",
    "    index_of = lambda rank: ranks_in_order.index(rank) if rank in ranks_in_order else 0\n",
    "    dist_value = lambda rank: (1.*index_of(rank)/len(ranks_in_order))**3\n",
    "    df = pd.DataFrame(graph_rebase.nodes(), columns=['TaxonID'])\n",
    "    \n",
    "    return np.mean([dist_value(lowest_shared_node(*df.TaxonID.sample(2).values)) for _ in xrange(10**N)])"
   ]
  },
  {
   "cell_type": "code",
   "execution_count": 19,
   "metadata": {
    "collapsed": true
   },
   "outputs": [],
   "source": [
    "x = np.arange(0, 5)"
   ]
  },
  {
   "cell_type": "code",
   "execution_count": 26,
   "metadata": {
    "collapsed": false
   },
   "outputs": [
    {
     "data": {
      "text/plain": [
       "array([ 1,  2,  5, 10, 17])"
      ]
     },
     "execution_count": 26,
     "metadata": {},
     "output_type": "execute_result"
    }
   ],
   "source": [
    "1 + x**2"
   ]
  },
  {
   "cell_type": "code",
   "execution_count": 56,
   "metadata": {
    "collapsed": false
   },
   "outputs": [],
   "source": []
  },
  {
   "cell_type": "code",
   "execution_count": 55,
   "metadata": {
    "collapsed": false
   },
   "outputs": [
    {
     "data": {
      "text/plain": [
       "12.0"
      ]
     },
     "execution_count": 55,
     "metadata": {},
     "output_type": "execute_result"
    }
   ],
   "source": [
    "distance(3)"
   ]
  },
  {
   "cell_type": "code",
   "execution_count": null,
   "metadata": {
    "collapsed": true
   },
   "outputs": [],
   "source": []
  }
 ],
 "metadata": {
  "kernelspec": {
   "display_name": "Python 2",
   "language": "python",
   "name": "python2"
  },
  "language_info": {
   "codemirror_mode": {
    "name": "ipython",
    "version": 2
   },
   "file_extension": ".py",
   "mimetype": "text/x-python",
   "name": "python",
   "nbconvert_exporter": "python",
   "pygments_lexer": "ipython2",
   "version": "2.7.9"
  }
 },
 "nbformat": 4,
 "nbformat_minor": 0
}
