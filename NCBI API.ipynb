{
 "cells": [
  {
   "cell_type": "code",
   "execution_count": null,
   "metadata": {
    "collapsed": true
   },
   "outputs": [],
   "source": [
    "import requests\n",
    "import urlparse\n",
    "import urllib\n",
    "import os\n",
    "import time\n",
    "import xml.etree.ElementTree as ET"
   ]
  },
  {
   "cell_type": "code",
   "execution_count": null,
   "metadata": {
    "collapsed": true
   },
   "outputs": [],
   "source": [
    "with open('mesh_diseases.txt', 'r') as f:\n",
    "    diseases = [line.strip() for line in f.readlines() if len(line) > 1]"
   ]
  },
  {
   "cell_type": "code",
   "execution_count": null,
   "metadata": {
    "collapsed": false
   },
   "outputs": [],
   "source": [
    "def _entrez(scheme, netloc, path, **params):\n",
    "    params.update({\n",
    "        'tool': 'modelorgspeirson',\n",
    "        'email': 'erick.peirson@asu.edu',\n",
    "    })\n",
    "    query = urllib.urlencode(params)\n",
    "    target = urlparse.urlunsplit((scheme, netloc, path, query, ''))\n",
    "    return requests.get(target).text\n",
    "\n",
    "\n",
    "def esearch(scheme='http', netloc='eutils.ncbi.nlm.nih.gov', \n",
    "            path='entrez/eutils/esearch.fcgi', **params):\n",
    "    return _entrez(scheme, netloc, path, **params)\n",
    "    \n",
    "    \n",
    "def efetch(scheme='http', netloc='eutils.ncbi.nlm.nih.gov', \n",
    "           path='entrez/eutils/esearch.fcgi', **params):\n",
    "    return _entrez(scheme, netloc, path, **params)"
   ]
  },
  {
   "cell_type": "code",
   "execution_count": null,
   "metadata": {
    "collapsed": true
   },
   "outputs": [],
   "source": [
    "def pubmed_for_mesh(term, year, retmax=10000):\n",
    "    params = {\n",
    "        'db': 'pubmed',\n",
    "        'retmax': retmax,    # Number of results.\n",
    "        'term': term,\n",
    "        'field': 'Mesh',\n",
    "        'mindate': year,\n",
    "        'maxdate': year,    # Ranges are inclusive in NCBI.\n",
    "        'datetype': 'pdat',    # Publication date.\n",
    "    }\n",
    "    return esearch(**params)"
   ]
  },
  {
   "cell_type": "code",
   "execution_count": null,
   "metadata": {
    "collapsed": true
   },
   "outputs": [],
   "source": [
    "def extract_pmids(result_raw):\n",
    "    e = ET.fromstring(result_raw)\n",
    "    return [id_elem.text for id_elem in e.find('IdList').getchildren()]"
   ]
  },
  {
   "cell_type": "code",
   "execution_count": null,
   "metadata": {
    "collapsed": false
   },
   "outputs": [],
   "source": [
    "def build_path(term, year, datafile, base='data'):\n",
    "    \"\"\"\n",
    "    Generate a path to a datafile for a specific term and year. \n",
    "    \n",
    "    Will attempt to recursively create any missing directories.\n",
    "    \n",
    "    Parameters\n",
    "    ----------\n",
    "    term : str\n",
    "    year : int\n",
    "    datafile : str\n",
    "        E.g. 'pmids.txt'\n",
    "    base : str\n",
    "        Base directory for data. Defaults to ./data.\n",
    "    \n",
    "    Returns\n",
    "    -------\n",
    "    str\n",
    "        Path to output file.\n",
    "    \"\"\"\n",
    "    dirpath = os.path.join(base, term, str(year))\n",
    "    if not os.path.exists(dirpath):\n",
    "        os.makedirs(dirpath)\n",
    "    return os.path.join(dirpath, datafile)"
   ]
  },
  {
   "cell_type": "code",
   "execution_count": null,
   "metadata": {
    "collapsed": false
   },
   "outputs": [],
   "source": [
    "for term in diseases:\n",
    "    for year in xrange(1975, 2016):\n",
    "        # NCBI permits no more than 3 requests per second.\n",
    "        time.sleep(0.5)\n",
    "        print '\\rterm:', term, 'year:', year,\n",
    "        \n",
    "        pmids = extract_pmids(pubmed_for_mesh(term, year))\n",
    "        outpath = build_path(term, year, 'pmids.txt')\n",
    "        with open(outpath, 'w') as f:\n",
    "            f.write('\\n'.join(pmids))"
   ]
  },
  {
   "cell_type": "code",
   "execution_count": null,
   "metadata": {
    "collapsed": false
   },
   "outputs": [],
   "source": []
  },
  {
   "cell_type": "code",
   "execution_count": null,
   "metadata": {
    "collapsed": true
   },
   "outputs": [],
   "source": []
  }
 ],
 "metadata": {
  "kernelspec": {
   "display_name": "Python 2",
   "language": "python",
   "name": "python2"
  },
  "language_info": {
   "codemirror_mode": {
    "name": "ipython",
    "version": 2
   },
   "file_extension": ".py",
   "mimetype": "text/x-python",
   "name": "python",
   "nbconvert_exporter": "python",
   "pygments_lexer": "ipython2",
   "version": "2.7.9"
  }
 },
 "nbformat": 4,
 "nbformat_minor": 0
}
