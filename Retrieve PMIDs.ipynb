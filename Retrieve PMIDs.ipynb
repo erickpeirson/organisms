{
 "cells": [
  {
   "cell_type": "code",
   "execution_count": 49,
   "metadata": {
    "collapsed": true
   },
   "outputs": [],
   "source": [
    "import requests\n",
    "import urlparse\n",
    "import urllib\n",
    "import os\n",
    "import time\n",
    "import copy\n",
    "import xml.etree.ElementTree as ET"
   ]
  },
  {
   "cell_type": "code",
   "execution_count": 3,
   "metadata": {
    "collapsed": true
   },
   "outputs": [],
   "source": [
    "with open('mesh_diseases.txt', 'r') as f:\n",
    "    diseases = [line.strip() for line in f.readlines() if len(line) > 1]"
   ]
  },
  {
   "cell_type": "code",
   "execution_count": 42,
   "metadata": {
    "collapsed": false
   },
   "outputs": [],
   "source": [
    "def _entrez(scheme, netloc, path, **params):\n",
    "    params.update({\n",
    "        'tool': 'modelorgspeirson',\n",
    "        'email': 'erick.peirson@asu.edu',\n",
    "    })\n",
    "    query = urllib.urlencode(params)\n",
    "    target = urlparse.urlunsplit((scheme, netloc, path, query, ''))\n",
    "    return requests.get(target).text\n",
    "\n",
    "\n",
    "def esearch(scheme='http', netloc='eutils.ncbi.nlm.nih.gov',\n",
    "            path='entrez/eutils/esearch.fcgi',\n",
    "            handler=extract_pmids, **params):\n",
    "    \"\"\"\n",
    "    Perform an ESearch request.\n",
    "\n",
    "    See http://www.ncbi.nlm.nih.gov/books/NBK25499/#chapter4.ESearch.\n",
    "    \"\"\"\n",
    "    return handler(_entrez(scheme, netloc, path, **params))\n",
    "    \n",
    "    \n",
    "def efetch(scheme='http', netloc='eutils.ncbi.nlm.nih.gov', \n",
    "           path='entrez/eutils/efetch.fcgi', \n",
    "           handler=lambda d: ET.fromstring(d.encode('utf-8')), **params):\n",
    "    return handler(_entrez(scheme, netloc, path, **params))"
   ]
  },
  {
   "cell_type": "code",
   "execution_count": 5,
   "metadata": {
    "collapsed": true
   },
   "outputs": [],
   "source": [
    "def pubmed_for_mesh(term, year, retmax=10000):\n",
    "    params = {\n",
    "        'db': 'pubmed',\n",
    "        'retmax': retmax,    # Number of results.\n",
    "        'term': term,\n",
    "        'field': 'Mesh',\n",
    "        'mindate': year,\n",
    "        'maxdate': year,    # Ranges are inclusive in NCBI.\n",
    "        'datetype': 'pdat',    # Publication date.\n",
    "    }\n",
    "    return esearch(**params)"
   ]
  },
  {
   "cell_type": "code",
   "execution_count": 6,
   "metadata": {
    "collapsed": true
   },
   "outputs": [],
   "source": [
    "def extract_pmids(result_raw):\n",
    "    e = ET.fromstring(result_raw)\n",
    "    return [id_elem.text for id_elem in e.find('IdList').getchildren()]"
   ]
  },
  {
   "cell_type": "code",
   "execution_count": 7,
   "metadata": {
    "collapsed": false
   },
   "outputs": [],
   "source": [
    "def build_path(term, year, datafile, base='data', make=False):\n",
    "    \"\"\"\n",
    "    Generate a path to a datafile for a specific term and year. \n",
    "    \n",
    "    Will attempt to recursively create any missing directories.\n",
    "    \n",
    "    Parameters\n",
    "    ----------\n",
    "    term : str\n",
    "    year : int\n",
    "    datafile : str\n",
    "        E.g. 'pmids.txt'\n",
    "    base : str\n",
    "        Base directory for data. Defaults to ./data.\n",
    "    \n",
    "    Returns\n",
    "    -------\n",
    "    str\n",
    "        Path to output file.\n",
    "    \"\"\"\n",
    "    dirpath = os.path.join(base, term, str(year))\n",
    "    if make and not os.path.exists(dirpath):\n",
    "        os.makedirs(dirpath)\n",
    "    return os.path.join(dirpath, datafile)"
   ]
  },
  {
   "cell_type": "code",
   "execution_count": 8,
   "metadata": {
    "collapsed": false
   },
   "outputs": [
    {
     "name": "stdout",
     "output_type": "stream",
     "text": [
      "term: Bacterial Infections and Mycoses year: 1981"
     ]
    },
    {
     "ename": "KeyboardInterrupt",
     "evalue": "",
     "output_type": "error",
     "traceback": [
      "\u001b[0;31m---------------------------------------------------------------------------\u001b[0m",
      "\u001b[0;31mKeyboardInterrupt\u001b[0m                         Traceback (most recent call last)",
      "\u001b[0;32m<ipython-input-8-46076360ccc2>\u001b[0m in \u001b[0;36m<module>\u001b[0;34m()\u001b[0m\n\u001b[1;32m      2\u001b[0m     \u001b[0;32mfor\u001b[0m \u001b[0myear\u001b[0m \u001b[0;32min\u001b[0m \u001b[0mxrange\u001b[0m\u001b[0;34m(\u001b[0m\u001b[0;36m1975\u001b[0m\u001b[0;34m,\u001b[0m \u001b[0;36m2016\u001b[0m\u001b[0;34m)\u001b[0m\u001b[0;34m:\u001b[0m\u001b[0;34m\u001b[0m\u001b[0m\n\u001b[1;32m      3\u001b[0m         \u001b[0;31m# NCBI permits no more than 3 requests per second.\u001b[0m\u001b[0;34m\u001b[0m\u001b[0;34m\u001b[0m\u001b[0m\n\u001b[0;32m----> 4\u001b[0;31m         \u001b[0mtime\u001b[0m\u001b[0;34m.\u001b[0m\u001b[0msleep\u001b[0m\u001b[0;34m(\u001b[0m\u001b[0;36m0.5\u001b[0m\u001b[0;34m)\u001b[0m\u001b[0;34m\u001b[0m\u001b[0m\n\u001b[0m\u001b[1;32m      5\u001b[0m         \u001b[0;32mprint\u001b[0m \u001b[0;34m'\\rterm:'\u001b[0m\u001b[0;34m,\u001b[0m \u001b[0mterm\u001b[0m\u001b[0;34m,\u001b[0m \u001b[0;34m'year:'\u001b[0m\u001b[0;34m,\u001b[0m \u001b[0myear\u001b[0m\u001b[0;34m,\u001b[0m\u001b[0;34m\u001b[0m\u001b[0m\n\u001b[1;32m      6\u001b[0m \u001b[0;34m\u001b[0m\u001b[0m\n",
      "\u001b[0;31mKeyboardInterrupt\u001b[0m: "
     ]
    }
   ],
   "source": [
    "for term in diseases:\n",
    "    for year in xrange(1975, 2016):\n",
    "        # NCBI permits no more than 3 requests per second.\n",
    "        time.sleep(0.5)\n",
    "        print '\\rterm:', term, 'year:', year,\n",
    "        \n",
    "        pmids = extract_pmids(pubmed_for_mesh(term, year))\n",
    "        outpath = build_path(term, year, 'pmids.txt', make=True)\n",
    "        with open(outpath, 'w') as f:\n",
    "            f.write('\\n'.join(pmids))"
   ]
  },
  {
   "cell_type": "code",
   "execution_count": 43,
   "metadata": {
    "collapsed": false
   },
   "outputs": [],
   "source": [
    "root = efetch(id=','.join(['6185069', '6794856']), db='pubmed', rettype='xml')"
   ]
  },
  {
   "cell_type": "code",
   "execution_count": 61,
   "metadata": {
    "collapsed": false
   },
   "outputs": [],
   "source": [
    "for article in root.findall('PubmedArticle'):\n",
    "    newTree = ET.ElementTree(element=copy.deepcopy(article))\n",
    "    newTree.write('')"
   ]
  },
  {
   "cell_type": "code",
   "execution_count": 70,
   "metadata": {
    "collapsed": false
   },
   "outputs": [
    {
     "data": {
      "text/plain": [
       "'6794856'"
      ]
     },
     "execution_count": 70,
     "metadata": {},
     "output_type": "execute_result"
    }
   ],
   "source": [
    "article.find('MedlineCitation/PMID').text"
   ]
  },
  {
   "cell_type": "code",
   "execution_count": 52,
   "metadata": {
    "collapsed": false
   },
   "outputs": [
    {
     "data": {
      "text/plain": [
       "<Element 'PubmedArticle' at 0x106f90d90>"
      ]
     },
     "execution_count": 52,
     "metadata": {},
     "output_type": "execute_result"
    }
   ],
   "source": [
    "t.write()"
   ]
  },
  {
   "cell_type": "code",
   "execution_count": 12,
   "metadata": {
    "collapsed": false
   },
   "outputs": [],
   "source": [
    "import numpy as np\n",
    "import pandas as pd"
   ]
  },
  {
   "cell_type": "code",
   "execution_count": 73,
   "metadata": {
    "collapsed": false
   },
   "outputs": [
    {
     "data": {
      "text/plain": [
       "['7346770',\n",
       " '7342204',\n",
       " '7342199',\n",
       " '7312017',\n",
       " '7312012',\n",
       " '7050888',\n",
       " '7050885',\n",
       " '7050884',\n",
       " '7043671',\n",
       " '7039058',\n",
       " '7329588',\n",
       " '7329699',\n",
       " '7330652',\n",
       " '7329801',\n",
       " '7322240',\n",
       " '7036374',\n",
       " '7036372',\n",
       " '7342471',\n",
       " '7327091',\n",
       " '7327089',\n",
       " '7043900',\n",
       " '7035787',\n",
       " '6458758',\n",
       " '7312001',\n",
       " '7311996',\n",
       " '6950290',\n",
       " '6916320',\n",
       " '6460338',\n",
       " '6460234',\n",
       " '6801837',\n",
       " '7336547',\n",
       " '7336546',\n",
       " '7330737',\n",
       " '7322916',\n",
       " '7322915',\n",
       " '7313655',\n",
       " '7313654',\n",
       " '7036371',\n",
       " '7033931',\n",
       " '6895794',\n",
       " '6797590',\n",
       " '6458888',\n",
       " '6171698',\n",
       " '6171697',\n",
       " '6171696',\n",
       " '6118786',\n",
       " '6118781',\n",
       " '6118780',\n",
       " '6118769',\n",
       " '6118761']"
      ]
     },
     "execution_count": 73,
     "metadata": {},
     "output_type": "execute_result"
    }
   ],
   "source": [
    "list(df.PMID[0:50])"
   ]
  },
  {
   "cell_type": "code",
   "execution_count": 16,
   "metadata": {
    "collapsed": false
   },
   "outputs": [],
   "source": [
    "df = pd.DataFrame(data=pmids, columns=['PMID'])"
   ]
  },
  {
   "cell_type": "code",
   "execution_count": 25,
   "metadata": {
    "collapsed": false
   },
   "outputs": [
    {
     "data": {
      "text/html": [
       "<div>\n",
       "<table border=\"1\" class=\"dataframe\">\n",
       "  <thead>\n",
       "    <tr style=\"text-align: right;\">\n",
       "      <th></th>\n",
       "      <th>PMID</th>\n",
       "    </tr>\n",
       "  </thead>\n",
       "  <tbody>\n",
       "    <tr>\n",
       "      <th>4011</th>\n",
       "      <td>6185069</td>\n",
       "    </tr>\n",
       "    <tr>\n",
       "      <th>2804</th>\n",
       "      <td>6794856</td>\n",
       "    </tr>\n",
       "    <tr>\n",
       "      <th>6865</th>\n",
       "      <td>6787342</td>\n",
       "    </tr>\n",
       "    <tr>\n",
       "      <th>9901</th>\n",
       "      <td>7009863</td>\n",
       "    </tr>\n",
       "    <tr>\n",
       "      <th>8967</th>\n",
       "      <td>6782863</td>\n",
       "    </tr>\n",
       "    <tr>\n",
       "      <th>8522</th>\n",
       "      <td>7237871</td>\n",
       "    </tr>\n",
       "    <tr>\n",
       "      <th>9708</th>\n",
       "      <td>7206103</td>\n",
       "    </tr>\n",
       "    <tr>\n",
       "      <th>6895</th>\n",
       "      <td>6455136</td>\n",
       "    </tr>\n",
       "    <tr>\n",
       "      <th>1890</th>\n",
       "      <td>7301149</td>\n",
       "    </tr>\n",
       "    <tr>\n",
       "      <th>8624</th>\n",
       "      <td>7214121</td>\n",
       "    </tr>\n",
       "    <tr>\n",
       "      <th>1704</th>\n",
       "      <td>6918111</td>\n",
       "    </tr>\n",
       "    <tr>\n",
       "      <th>4031</th>\n",
       "      <td>6117635</td>\n",
       "    </tr>\n",
       "    <tr>\n",
       "      <th>1147</th>\n",
       "      <td>7342888</td>\n",
       "    </tr>\n",
       "    <tr>\n",
       "      <th>3669</th>\n",
       "      <td>7036839</td>\n",
       "    </tr>\n",
       "    <tr>\n",
       "      <th>5519</th>\n",
       "      <td>7247805</td>\n",
       "    </tr>\n",
       "    <tr>\n",
       "      <th>9105</th>\n",
       "      <td>6110920</td>\n",
       "    </tr>\n",
       "    <tr>\n",
       "      <th>2690</th>\n",
       "      <td>6946936</td>\n",
       "    </tr>\n",
       "    <tr>\n",
       "      <th>3739</th>\n",
       "      <td>7026778</td>\n",
       "    </tr>\n",
       "    <tr>\n",
       "      <th>9462</th>\n",
       "      <td>7247370</td>\n",
       "    </tr>\n",
       "    <tr>\n",
       "      <th>7250</th>\n",
       "      <td>7288772</td>\n",
       "    </tr>\n",
       "    <tr>\n",
       "      <th>2230</th>\n",
       "      <td>7331271</td>\n",
       "    </tr>\n",
       "    <tr>\n",
       "      <th>7765</th>\n",
       "      <td>6972422</td>\n",
       "    </tr>\n",
       "    <tr>\n",
       "      <th>641</th>\n",
       "      <td>7035500</td>\n",
       "    </tr>\n",
       "    <tr>\n",
       "      <th>8957</th>\n",
       "      <td>6784622</td>\n",
       "    </tr>\n",
       "    <tr>\n",
       "      <th>7146</th>\n",
       "      <td>7292908</td>\n",
       "    </tr>\n",
       "    <tr>\n",
       "      <th>9982</th>\n",
       "      <td>6926536</td>\n",
       "    </tr>\n",
       "    <tr>\n",
       "      <th>1089</th>\n",
       "      <td>6118518</td>\n",
       "    </tr>\n",
       "    <tr>\n",
       "      <th>4523</th>\n",
       "      <td>7198659</td>\n",
       "    </tr>\n",
       "    <tr>\n",
       "      <th>5699</th>\n",
       "      <td>7020398</td>\n",
       "    </tr>\n",
       "    <tr>\n",
       "      <th>8340</th>\n",
       "      <td>7272810</td>\n",
       "    </tr>\n",
       "    <tr>\n",
       "      <th>...</th>\n",
       "      <td>...</td>\n",
       "    </tr>\n",
       "    <tr>\n",
       "      <th>500</th>\n",
       "      <td>7310581</td>\n",
       "    </tr>\n",
       "    <tr>\n",
       "      <th>1492</th>\n",
       "      <td>7293980</td>\n",
       "    </tr>\n",
       "    <tr>\n",
       "      <th>5143</th>\n",
       "      <td>7319564</td>\n",
       "    </tr>\n",
       "    <tr>\n",
       "      <th>4563</th>\n",
       "      <td>7029178</td>\n",
       "    </tr>\n",
       "    <tr>\n",
       "      <th>939</th>\n",
       "      <td>6172043</td>\n",
       "    </tr>\n",
       "    <tr>\n",
       "      <th>4391</th>\n",
       "      <td>7273404</td>\n",
       "    </tr>\n",
       "    <tr>\n",
       "      <th>9447</th>\n",
       "      <td>7252411</td>\n",
       "    </tr>\n",
       "    <tr>\n",
       "      <th>6173</th>\n",
       "      <td>7267600</td>\n",
       "    </tr>\n",
       "    <tr>\n",
       "      <th>6809</th>\n",
       "      <td>6895138</td>\n",
       "    </tr>\n",
       "    <tr>\n",
       "      <th>3836</th>\n",
       "      <td>6947539</td>\n",
       "    </tr>\n",
       "    <tr>\n",
       "      <th>7614</th>\n",
       "      <td>7194924</td>\n",
       "    </tr>\n",
       "    <tr>\n",
       "      <th>1065</th>\n",
       "      <td>7334889</td>\n",
       "    </tr>\n",
       "    <tr>\n",
       "      <th>413</th>\n",
       "      <td>7325534</td>\n",
       "    </tr>\n",
       "    <tr>\n",
       "      <th>7731</th>\n",
       "      <td>7014123</td>\n",
       "    </tr>\n",
       "    <tr>\n",
       "      <th>5835</th>\n",
       "      <td>6793206</td>\n",
       "    </tr>\n",
       "    <tr>\n",
       "      <th>7259</th>\n",
       "      <td>7283842</td>\n",
       "    </tr>\n",
       "    <tr>\n",
       "      <th>1414</th>\n",
       "      <td>7305578</td>\n",
       "    </tr>\n",
       "    <tr>\n",
       "      <th>5793</th>\n",
       "      <td>6895062</td>\n",
       "    </tr>\n",
       "    <tr>\n",
       "      <th>8192</th>\n",
       "      <td>7281289</td>\n",
       "    </tr>\n",
       "    <tr>\n",
       "      <th>8012</th>\n",
       "      <td>6243027</td>\n",
       "    </tr>\n",
       "    <tr>\n",
       "      <th>2681</th>\n",
       "      <td>6974921</td>\n",
       "    </tr>\n",
       "    <tr>\n",
       "      <th>9985</th>\n",
       "      <td>6912209</td>\n",
       "    </tr>\n",
       "    <tr>\n",
       "      <th>5549</th>\n",
       "      <td>7243998</td>\n",
       "    </tr>\n",
       "    <tr>\n",
       "      <th>6192</th>\n",
       "      <td>7338315</td>\n",
       "    </tr>\n",
       "    <tr>\n",
       "      <th>7848</th>\n",
       "      <td>6794471</td>\n",
       "    </tr>\n",
       "    <tr>\n",
       "      <th>9629</th>\n",
       "      <td>7218386</td>\n",
       "    </tr>\n",
       "    <tr>\n",
       "      <th>9949</th>\n",
       "      <td>6947901</td>\n",
       "    </tr>\n",
       "    <tr>\n",
       "      <th>4541</th>\n",
       "      <td>7035663</td>\n",
       "    </tr>\n",
       "    <tr>\n",
       "      <th>6487</th>\n",
       "      <td>7242224</td>\n",
       "    </tr>\n",
       "    <tr>\n",
       "      <th>5563</th>\n",
       "      <td>7240620</td>\n",
       "    </tr>\n",
       "  </tbody>\n",
       "</table>\n",
       "<p>1000 rows × 1 columns</p>\n",
       "</div>"
      ],
      "text/plain": [
       "         PMID\n",
       "4011  6185069\n",
       "2804  6794856\n",
       "6865  6787342\n",
       "9901  7009863\n",
       "8967  6782863\n",
       "8522  7237871\n",
       "9708  7206103\n",
       "6895  6455136\n",
       "1890  7301149\n",
       "8624  7214121\n",
       "1704  6918111\n",
       "4031  6117635\n",
       "1147  7342888\n",
       "3669  7036839\n",
       "5519  7247805\n",
       "9105  6110920\n",
       "2690  6946936\n",
       "3739  7026778\n",
       "9462  7247370\n",
       "7250  7288772\n",
       "2230  7331271\n",
       "7765  6972422\n",
       "641   7035500\n",
       "8957  6784622\n",
       "7146  7292908\n",
       "9982  6926536\n",
       "1089  6118518\n",
       "4523  7198659\n",
       "5699  7020398\n",
       "8340  7272810\n",
       "...       ...\n",
       "500   7310581\n",
       "1492  7293980\n",
       "5143  7319564\n",
       "4563  7029178\n",
       "939   6172043\n",
       "4391  7273404\n",
       "9447  7252411\n",
       "6173  7267600\n",
       "6809  6895138\n",
       "3836  6947539\n",
       "7614  7194924\n",
       "1065  7334889\n",
       "413   7325534\n",
       "7731  7014123\n",
       "5835  6793206\n",
       "7259  7283842\n",
       "1414  7305578\n",
       "5793  6895062\n",
       "8192  7281289\n",
       "8012  6243027\n",
       "2681  6974921\n",
       "9985  6912209\n",
       "5549  7243998\n",
       "6192  7338315\n",
       "7848  6794471\n",
       "9629  7218386\n",
       "9949  6947901\n",
       "4541  7035663\n",
       "6487  7242224\n",
       "5563  7240620\n",
       "\n",
       "[1000 rows x 1 columns]"
      ]
     },
     "execution_count": 25,
     "metadata": {},
     "output_type": "execute_result"
    }
   ],
   "source": [
    "df.sample(1000)"
   ]
  },
  {
   "cell_type": "code",
   "execution_count": null,
   "metadata": {
    "collapsed": true
   },
   "outputs": [],
   "source": []
  }
 ],
 "metadata": {
  "kernelspec": {
   "display_name": "Python 2",
   "language": "python",
   "name": "python2"
  },
  "language_info": {
   "codemirror_mode": {
    "name": "ipython",
    "version": 2
   },
   "file_extension": ".py",
   "mimetype": "text/x-python",
   "name": "python",
   "nbconvert_exporter": "python",
   "pygments_lexer": "ipython2",
   "version": "2.7.9"
  }
 },
 "nbformat": 4,
 "nbformat_minor": 0
}
